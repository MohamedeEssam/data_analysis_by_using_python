{
 "cells": [
  {
   "cell_type": "markdown",
   "id": "1935989c",
   "metadata": {},
   "source": [
    "#### <div class=\"alert alert-info\">Exercise 1 (rows and columns)</div>\n",
    "\n",
    "Write two functions, `get_rows` and `get_columns`, that get a two dimensional array as parameter.\n",
    "They should return the list of rows and columns of the array, respectively. The rows and columns should be one dimensional arrays. You may use the *transpose* operation, which flips rows to columns, in your solution. The transpose is done by the `T` method:"
   ]
  },
  {
   "cell_type": "code",
   "execution_count": null,
   "id": "34f0eb24",
   "metadata": {},
   "outputs": [],
   "source": []
  },
  {
   "cell_type": "markdown",
   "id": "20f71978",
   "metadata": {},
   "source": [
    "#### <div class=\"alert alert-info\">Exercise 2 (row and column vectors)</div>\n",
    "\n",
    "Create function `get_row_vectors` that returns a list of rows from the input array of shape `(n,m)`, but this time the rows must have shape `(1,m)`. Similarly, create function `get_columns_vectors` that returns a list of columns (each having shape `(n,1)`) of the input matrix .\n",
    "\n",
    "Example: for a 2x3 input matrix\n",
    "\n",
    "```\n",
    " [[5 0 3]\n",
    "  [3 7 9]]\n",
    "```\n",
    "\n",
    "the result should be\n",
    "\n",
    "```\n",
    "Row vectors: \n",
    "[array([[5, 0, 3]]), array([[3, 7, 9]])]\n",
    "Column vectors: \n",
    "[array([[5],\n",
    "        [3]]), \n",
    " array([[0],\n",
    "        [7]]), \n",
    " array([[3],\n",
    "        [9]])]\n",
    "```\n",
    "\n",
    "The above output is basically just the returned lists printed with `print`. Only some\n",
    "whitespace is adjusted to make it look nicer. Output is not tested.\n",
    "\n",
    "<hr/>"
   ]
  },
  {
   "cell_type": "code",
   "execution_count": null,
   "id": "fbdfca5b",
   "metadata": {},
   "outputs": [],
   "source": []
  },
  {
   "cell_type": "markdown",
   "id": "47460522",
   "metadata": {},
   "source": [
    "#### <div class=\"alert alert-info\">Exercise 3 (diamond)</div>\n",
    "Create a function `diamond` that returns a two dimensional integer array where the `1`s form a diamond shape. Rest of the numbers are `0`. The function should get a parameter that tells the length of a side of the diamond. Do this using the `eye` and `concatenate` functions of NumPy and array slicing.\n",
    "\n",
    "Example of usage:\n",
    "```\n",
    "print(diamond(3))\n",
    "[[0 0 1 0 0]\n",
    " [0 1 0 1 0]\n",
    " [1 0 0 0 1]\n",
    " [0 1 0 1 0]\n",
    " [0 0 1 0 0]]\n",
    "print(diamond(1))\n",
    "[[1]]\n",
    "```"
   ]
  },
  {
   "cell_type": "code",
   "execution_count": null,
   "id": "119d2834",
   "metadata": {},
   "outputs": [],
   "source": []
  },
  {
   "cell_type": "markdown",
   "id": "0252dee3",
   "metadata": {},
   "source": [
    "#### <div class=\"alert alert-info\">Exercise 4 (vector lengths)</div>\n",
    "\n",
    "Write function `vector_lengths` that gets a two dimensional array of shape (n,m) as a parameter. Each row in this array corresponds to a vector. The function should return an array of shape (n,), that has the length of each vector in the input. The length is defined by the usual \n",
    "[Euclidean norm](<https://en.wikipedia.org/wiki/Norm_(mathematics&#41;#Euclidean_norm>). Don't use loops at all in your solution. Instead use vectorized operations. You must use at least the `np.sum` and the `np.sqrt` functions. You can't use the function `scipy.linalg.norm`. Test your function in the main function."
   ]
  },
  {
   "cell_type": "code",
   "execution_count": null,
   "id": "4699c73f",
   "metadata": {},
   "outputs": [],
   "source": []
  },
  {
   "cell_type": "markdown",
   "id": "06f38200",
   "metadata": {},
   "source": [
    "#### <div class=\"alert alert-info\">Exercise 5 (vector angles)</div>\n",
    "\n",
    "Let x and y be m-dimensional vectors. The angle $\\alpha$ between two vectors is defined by the equation\n",
    "$\\cos_{xy}(\\alpha):=\\frac{\\langle x,y\\rangle}{||x|| ||y||}$,\n",
    "where the angle brackets denote the [inner product](https://en.wikipedia.org/wiki/Inner_product_space#Euclidean_space), and $||x||:=\\sqrt{\\langle x,x \\rangle}$. \n",
    "\n",
    "Write function `vector_angles` that gets two arrays X and Y with same shape (n,m) as parameters. Each row in the arrays corresponds to a vector. The function should return vector of shape (n,) with the corresponding angles between vectors of `X` and `Y` in degrees, not in radians. Again, don't use loops, but use vectorized operations.\n",
    "\n",
    "Note: function `np.arccos` is only defined on the domain [-1.0,1.0]. If you try to compute `np.arccos(1.000000001)`, it will fail. These kind of errors can occur due to use of finite precision in numerical computations. Force the argument to be in the correct range (`clip` method).\n",
    "\n",
    "Test your solution in the main program.\n",
    "<hr/>"
   ]
  },
  {
   "cell_type": "code",
   "execution_count": null,
   "id": "ae7cdfbc",
   "metadata": {},
   "outputs": [],
   "source": []
  },
  {
   "cell_type": "markdown",
   "id": "777ef934",
   "metadata": {},
   "source": [
    "#### <div class=\"alert alert-info\">Exercise 6 (multiplication table revisited)</div>\n",
    "Write function `multiplication_table` that gets a positive integer `n` as parameter. The function should return an array with shape (n,n). The element at index `(i,j)` should be `i*j`. Don't use `for` loops! In your solution, rely on broadcasting, the `np.arange` function, reshaping and vectorized operators. Example of usage:\n",
    "```\n",
    "print(multiplication_table(4))\n",
    "[[0 0 0 0]\n",
    " [0 1 2 3]\n",
    " [0 2 4 6]\n",
    " [0 3 6 9]]\n",
    "```\n",
    "<hr/>"
   ]
  },
  {
   "cell_type": "code",
   "execution_count": null,
   "id": "c6b692f2",
   "metadata": {},
   "outputs": [],
   "source": []
  }
 ],
 "metadata": {
  "language_info": {
   "name": "python"
  }
 },
 "nbformat": 4,
 "nbformat_minor": 5
}
