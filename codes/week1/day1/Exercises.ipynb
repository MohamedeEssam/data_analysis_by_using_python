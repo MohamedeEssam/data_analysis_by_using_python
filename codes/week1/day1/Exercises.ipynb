{
 "cells": [
  {
   "cell_type": "markdown",
   "id": "129434e2",
   "metadata": {},
   "source": [
    "# Exercises"
   ]
  },
  {
   "cell_type": "markdown",
   "id": "edd0e60f",
   "metadata": {
    "vscode": {
     "languageId": "plaintext"
    }
   },
   "source": [
    "#### <div class=\"alert alert-info\">Exercise 1 (hello world)</div>\n",
    "Fill in the missing piece in the solution stub file `hello_world.py` in folder `src` to make it print the following:\n",
    "\n",
    "`Hello, world!`\n",
    "\n",
    "Make sure you use correct indenting. You can run it with command `python3 src/hello_world.py`.\n",
    "If the output looks good, then you can test it with command `tmc test`. If the tests pass,\n",
    "submit your solution to the server with command `tmc submit`.\n",
    "<hr/>"
   ]
  },
  {
   "cell_type": "code",
   "execution_count": null,
   "id": "1c97ae64",
   "metadata": {},
   "outputs": [],
   "source": []
  },
  {
   "cell_type": "markdown",
   "id": "ae58fc82",
   "metadata": {},
   "source": [
    "#### <div class=\"alert alert-info\">Exercise 2 (compliment)</div>\n",
    "Fill in the stub solution to make the program work as follows. The program should ask the user for an input, and the print an answer as the examples below show.\n",
    "\n",
    "```\n",
    "What country are you from? Sweden\n",
    "I have heard that Sweden is a beautiful country.\n",
    "\n",
    "What country are you from? Chile  \n",
    "I have heard that Chile is a beautiful country.\n",
    "```\n",
    "<hr/>"
   ]
  },
  {
   "cell_type": "code",
   "execution_count": null,
   "id": "9bc42514",
   "metadata": {},
   "outputs": [],
   "source": []
  },
  {
   "cell_type": "markdown",
   "id": "42d4c57c",
   "metadata": {},
   "source": [
    "#### <div class=\"alert alert-info\">Exercise 3 (multiplication)</div> \n",
    "Make a program that gives the following output. You should use a for loop in your solution.\n",
    "\n",
    "```\n",
    "4 multiplied by 0 is 0\n",
    "4 multiplied by 1 is 4\n",
    "4 multiplied by 2 is 8\n",
    "4 multiplied by 3 is 12\n",
    "4 multiplied by 4 is 16\n",
    "4 multiplied by 5 is 20\n",
    "4 multiplied by 6 is 24\n",
    "4 multiplied by 7 is 28\n",
    "4 multiplied by 8 is 32\n",
    "4 multiplied by 9 is 36\n",
    "4 multiplied by 10 is 40\n",
    "```\n",
    "<hr/>"
   ]
  },
  {
   "cell_type": "code",
   "execution_count": null,
   "id": "65937073",
   "metadata": {},
   "outputs": [],
   "source": []
  },
  {
   "cell_type": "markdown",
   "id": "11ee6431",
   "metadata": {},
   "source": [
    "#### <div class=\"alert alert-info\">Exercise 4 (multiplication table)</div>\n",
    "\n",
    "In the `main` function print a multiplication table, which is shown below:\n",
    "```\n",
    "   1   2   3   4   5   6   7   8   9  10\n",
    "   2   4   6   8  10  12  14  16  18  20\n",
    "   3   6   9  12  15  18  21  24  27  30\n",
    "   4   8  12  16  20  24  28  32  36  40\n",
    "   5  10  15  20  25  30  35  40  45  50\n",
    "   6  12  18  24  30  36  42  48  54  60\n",
    "   7  14  21  28  35  42  49  56  63  70\n",
    "   8  16  24  32  40  48  56  64  72  80\n",
    "   9  18  27  36  45  54  63  72  81  90\n",
    "  10  20  30  40  50  60  70  80  90 100\n",
    "```\n",
    "For example at row 4 and column 9 we have 4*9=36.\n",
    "\n",
    "Use two nested for loops to achive this. Note that you can use the following form to stop the `print` function from automatically starting a new line:"
   ]
  },
  {
   "cell_type": "code",
   "execution_count": null,
   "id": "7f764459",
   "metadata": {},
   "outputs": [],
   "source": []
  },
  {
   "cell_type": "markdown",
   "id": "076b0ce3",
   "metadata": {},
   "source": [
    "#### <div class=\"alert alert-info\">Exercise 5 (two dice)</div>\n",
    "\n",
    "Let us consider throwing two dice. (A dice can give a value between 1 and 6.) Use two nested `for`\n",
    "loops in the `main` function to iterate through all possible combinations the pair of dice can give. \n",
    "There are 36 possible combinations. Print all those combinations as (ordered) pairs that sum to 5. \n",
    "For example, your printout should include the pair `(2,3)`. Print one pair per line.\n",
    "<hr/>"
   ]
  },
  {
   "cell_type": "code",
   "execution_count": null,
   "id": "510e7a2b",
   "metadata": {},
   "outputs": [],
   "source": []
  },
  {
   "cell_type": "markdown",
   "id": "cfc4bbfc",
   "metadata": {},
   "source": [
    "#### <div class=\"alert alert-info\">Exercise 6 (triple square)</div>\n",
    "\n",
    "Write two functions: `triple` and `square`. Function `triple` multiplies its parameter by three. Function `square` raises its parameter to the power of two. For example, we have equalities `triple(5)==15`\n",
    "and `square(5)==25`.\n",
    "\n",
    "Part 1.\n",
    "\n",
    "In the `main` function write a `for` loop that iterates through values 1 to 10, and for each value prints its triple and its square. The output should be as follows:\n",
    "```\n",
    "triple(1)==3 square(1)==1\n",
    "triple(2)==6 square(2)==4\n",
    "...\n",
    "```\n",
    "\n",
    "Part 2.\n",
    "\n",
    "Now modify this `for` loop so that it stops iteration when the square of a value is larger than the\n",
    "triple of the value, without printing anything in the last iteration.\n",
    "\n",
    "Note that the test cases check that both functions `triple` and `square` are called exactly once per iteration.\n",
    "<hr/>"
   ]
  },
  {
   "cell_type": "code",
   "execution_count": null,
   "id": "5dd4abf9",
   "metadata": {},
   "outputs": [],
   "source": []
  },
  {
   "cell_type": "markdown",
   "id": "fcb7ac4c",
   "metadata": {},
   "source": [
    "#### <div class=\"alert alert-info\">Exercise 7 (areas of shapes)</div>\n",
    "\n",
    "Create a program that can compute the areas of three shapes, triangles, rectangles and circles, when\n",
    "their dimensions are given.\n",
    "\n",
    "An endless loop should ask for which shape you want the area be calculated. An empty string as input will exit the loop. \n",
    "If the user gives a\n",
    "string that is none of the given shapes, the message “Unknown shape!” should be printed.\n",
    "Then it will ask for dimensions for that particular shape. When all the necessary dimensions are\n",
    "given, it prints the area, and starts the loop all over again. Use format specifier `f` for the area.\n",
    "\n",
    "What happens if you give incorrect dimensions, like giving string \"aa\" as radius? You don't have to check for errors in the input.\n",
    "\n",
    "Example interaction:\n",
    "```\n",
    "Choose a shape (triangle, rectangle, circle): triangle\n",
    "Give base of the triangle: 20\n",
    "Give height of the triangle: 5\n",
    "The area is 50.000000\n",
    "Choose a shape (triangle, rectangle, circle): rectangel\n",
    "Unknown shape!\n",
    "Choose a shape (triangle, rectangle, circle): rectangle\n",
    "Give width of the rectangle: 20\n",
    "Give height of the rectangle: 4\n",
    "The area is 80.000000\n",
    "Choose a shape (triangle, rectangle, circle): circle\n",
    "Give radius of the circle: 10\n",
    "The area is 314.159265\n",
    "Choose a shape (triangle, rectangle, circle): \n",
    "```\n",
    "<hr/>"
   ]
  },
  {
   "cell_type": "code",
   "execution_count": null,
   "id": "ba3550c6",
   "metadata": {},
   "outputs": [],
   "source": []
  },
  {
   "cell_type": "markdown",
   "id": "398bec42",
   "metadata": {},
   "source": [
    "#### <div class=\"alert alert-info\">Exercise 8 (solve quadratic)</div>\n",
    "\n",
    "In mathematics, the quadratic equation $ax^2+bx+c=0$ can be solved with the formula \n",
    "$x=\\frac{-b\\pm \\sqrt{b^2 -4ac}}{2a}$. \n",
    "\n",
    "Write a function `solve_quadratic`, that returns both solutions of a generic quadratic as a pair (2-tuple)\n",
    "when the coefficients are given as parameters. It should work like this:\n",
    "```python\n",
    "print(solve_quadratic(1,-3,2))\n",
    "(2.0,1.0)\n",
    "print(solve_quadratic(1,2,1))\n",
    "(-1.0,-1.0)\n",
    "```\n",
    "\n",
    "You may want to use the `math.sqrt` function from the `math` module in your solution. Test that your function works in the main function!\n",
    "<hr/>"
   ]
  },
  {
   "cell_type": "code",
   "execution_count": null,
   "id": "1990fc30",
   "metadata": {},
   "outputs": [],
   "source": []
  },
  {
   "cell_type": "markdown",
   "id": "965cbb73",
   "metadata": {},
   "source": [
    "#### <div class=\"alert alert-info\">Exercise 9 (merge)</div>\n",
    "\n",
    "Suppose we have two lists `L1` and `L2` that contain integers which are sorted in ascending order.\n",
    "Create a function `merge` that gets these lists as parameters and returns a new sorted list `L` that has\n",
    "all the elements of `L1` and `L2`. So, `len(L)` should equal to `len(L1)+len(L2)`. Do this using the\n",
    "fact that both lists are already sorted. You can’t use the `sorted` function or the `sort` method in implementing the `merge` method. You can however use these `sorted` in the main function for creating inputs to the `merge` function.\n",
    "Test with a couple of examples in the `main` function that your solution works correctly.\n",
    "\n",
    "Note: In Python argument lists are passed by reference to the function, they are not copied! Make sure you don't modify the original lists of the caller.\n",
    "<hr/>"
   ]
  },
  {
   "cell_type": "code",
   "execution_count": null,
   "id": "6ec825e9",
   "metadata": {},
   "outputs": [],
   "source": []
  },
  {
   "cell_type": "markdown",
   "id": "9a8063af",
   "metadata": {},
   "source": [
    "#### <div class=\"alert alert-info\">Exercise 10 (detect ranges)</div>\n",
    "\n",
    "Create a function named `detect_ranges` that gets a list of integers as a parameter. The function\n",
    "should then sort this list, and transform the list into another list where pairs are used for all the\n",
    "detected intervals. So `3,4,5,6` is replaced by the pair `(3,7)`. Numbers that are not part of any\n",
    "interval result just single numbers. The resulting list consists of these numbers and\n",
    "pairs, separated by commas.\n",
    "An example of how this function works:\n",
    "```python\n",
    "print(detect_ranges([2,5,4,8,12,6,7,10,13]))\n",
    "[2,(4,9),10,(12,14)]\n",
    "```\n",
    "\n",
    "Note that the second element of the pair does not belong to the range. This is consistent with the way Python's `range` function works. You may assume that no element in the input list appears multiple times.\n",
    "<hr/>"
   ]
  },
  {
   "cell_type": "code",
   "execution_count": null,
   "id": "f77325c7",
   "metadata": {},
   "outputs": [],
   "source": []
  },
  {
   "cell_type": "markdown",
   "id": "bcab73cf",
   "metadata": {},
   "source": [
    "#### <div class=\"alert alert-info\">Exercise 11 (interleave)</div>\n",
    "\n",
    "Write function `interleave` that gets arbitrary number of lists as parameters. You may assume that all the lists have equal length. The function should return one list containing all the elements from the input lists interleaved.\n",
    "Test your function from the `main` function of the program.\n",
    "\n",
    "Example:\n",
    "`interleave([1,2,3], [20,30,40], ['a', 'b', 'c'])`\n",
    "should return\n",
    "`[1, 20, 'a', 2, 30, 'b', 3, 40, 'c']`.\n",
    "Use the `zip` function to implement `interleave`. Remember the `extend` method of list objects.\n",
    "<hr/>"
   ]
  },
  {
   "cell_type": "code",
   "execution_count": null,
   "id": "975cba27",
   "metadata": {},
   "outputs": [],
   "source": []
  },
  {
   "cell_type": "markdown",
   "id": "38a87ee2",
   "metadata": {},
   "source": [
    "#### <div class=\"alert alert-info\">Exercise 12 (distinct characters)</div>\n",
    "\n",
    "Write function `distinct_characters` that gets a list of strings as a parameter. It should return a dictionary whose keys are the strings of the input list and the corresponding values are the numbers of distinct characters in the key.\n",
    "\n",
    "Use the `set` container to temporarily store the distinct characters in a string.\n",
    "Example of usage:\n",
    "`distinct_characters([\"check\", \"look\", \"try\", \"pop\"])`\n",
    "should return\n",
    "`{ \"check\" : 4, \"look\" : 3, \"try\" : 3, \"pop\" : 2}`.\n",
    "<hr/>"
   ]
  },
  {
   "cell_type": "code",
   "execution_count": null,
   "id": "c373dfde",
   "metadata": {},
   "outputs": [],
   "source": []
  },
  {
   "cell_type": "markdown",
   "id": "d4cbf929",
   "metadata": {},
   "source": [
    "#### <div class=\"alert alert-info\">Exercise 13 (reverse dictionary)</div>\n",
    "\n",
    "Let `d` be a dictionary that has English words as keys and a list of Finnish words as values. So, the\n",
    "dictionary can be used to find out the Finnish equivalents of an English word in the following way:\n",
    "\n",
    "```\n",
    "d[\"move\"]\n",
    "[\"liikuttaa\"]\n",
    "d[\"hide\"]\n",
    "[\"piilottaa\", \"salata\"]\n",
    "```\n",
    "\n",
    "Make a function `reverse_dictionary` that creates a Finnish to English dictionary based on a English to Finnish dictionary given as a parameter. The values of the created dictionary should be lists of words. It should work like this:\n",
    "```\n",
    "d={'move': ['liikuttaa'], 'hide': ['piilottaa', 'salata'], 'six': ['kuusi'], 'fir': ['kuusi']}\n",
    "reverse_dictionary(d)\n",
    "{'liikuttaa': ['move'], 'piilottaa': ['hide'], 'salata': ['hide'], 'kuusi': ['six', 'fir']}\n",
    "```\n",
    "\n",
    "Be careful with synonyms and homonyms!\n",
    "<hr/>"
   ]
  },
  {
   "cell_type": "code",
   "execution_count": null,
   "id": "157736b1",
   "metadata": {},
   "outputs": [],
   "source": []
  },
  {
   "cell_type": "markdown",
   "id": "dbc79454",
   "metadata": {},
   "source": [
    "#### <div class=\"alert alert-info\">Exercise 14 (find matching)</div>\n",
    "\n",
    "Write function `find_matching` that gets a list of strings and a search string as parameters. The function should return the indices to those elements in the input list that contain the search string. Use the function `enumerate`.\n",
    "\n",
    "An example:\n",
    "`find_matching([\"sensitive\", \"engine\", \"rubbish\", \"comment\"], \"en\")`\n",
    "should return the list\n",
    "`[0, 1, 3]`.\n",
    "<hr/>"
   ]
  },
  {
   "cell_type": "code",
   "execution_count": null,
   "id": "79a16491",
   "metadata": {},
   "outputs": [],
   "source": []
  },
  {
   "cell_type": "markdown",
   "id": "0f9d467c",
   "metadata": {},
   "source": [
    "#### <div class=\"alert alert-info\">Exercise 15 (two dice comprehension)</div>\n",
    "\n",
    "Redo the earlier exercise which printed all the pairs of two dice results that sum to 5. But this time use a list comprehension. Print one pair per line.\n",
    "<hr/>"
   ]
  },
  {
   "cell_type": "code",
   "execution_count": null,
   "id": "618ca4ba",
   "metadata": {},
   "outputs": [],
   "source": []
  },
  {
   "cell_type": "markdown",
   "id": "f18b1a22",
   "metadata": {},
   "source": [
    "#### <div class=\"alert alert-info\">Exercise 16 (transform)</div>\n",
    "\n",
    "Write a function `transform` that gets two strings as parameters and returns a list of integers. The function should split the strings into words, and convert these words to integers. This should give two lists of integers. Then the function should return a list whose elements are multiplication of two integers in the respective positions in the lists.\n",
    "For example\n",
    "`transform(\"1 5 3\", \"2 6 -1\")`\n",
    "should return the list of integers\n",
    "`[2, 30, -3]`.\n",
    "\n",
    "You **have** to use `split`, `map`, and `zip` functions/methods. You may assume that the two input strings are in correct format.\n",
    "<hr/>"
   ]
  },
  {
   "cell_type": "code",
   "execution_count": null,
   "id": "2d327ee1",
   "metadata": {},
   "outputs": [],
   "source": []
  },
  {
   "cell_type": "markdown",
   "id": "81c02125",
   "metadata": {},
   "source": [
    "#### <div class=\"alert alert-info\">Exercise 17 (positive list)</div>\n",
    "\n",
    "Write a function `positive_list` that gets a list of numbers as a parameter, and returns a list with the negative numbers and zero filtered out using the `filter` function.\n",
    "\n",
    "The function call `positive_list([2,-2,0,1,-7])` should return the list `[2,1]`. Test your function in the `main` function.\n",
    "<hr/>"
   ]
  },
  {
   "cell_type": "code",
   "execution_count": null,
   "id": "776f7e5e",
   "metadata": {},
   "outputs": [],
   "source": []
  },
  {
   "cell_type": "markdown",
   "id": "9ed95f8d",
   "metadata": {},
   "source": [
    "#### <div class=\"alert alert-info\">Exercise 18 (acronyms)</div>\n",
    "\n",
    "Write function `acronyms` which takes a string as a parameter and returns a list of acronyms. A word is an acronym if it has length at least two, and all its characters are in uppercase. Before acronym detection, delete punctuation with the `strip` method.\n",
    "\n",
    "Test this function in the `main` function with the following call:\n",
    "```python\n",
    "print(acronyms(\"\"\"For the purposes of the EU General Data Protection Regulation (GDPR), the controller of your personal information is International Business Machines Corporation (IBM Corp.), 1 New Orchard Road, Armonk, New York, United States, unless indicated otherwise. Where IBM Corp. or a subsidiary it controls (not established in the European Economic Area (EEA)) is required to appoint a legal representative in the EEA, the representative for all such cases is IBM United Kingdom Limited, PO Box 41, North Harbour, Portsmouth, Hampshire, United Kingdom PO6 3AU.\"\"\"))\n",
    "```\n",
    "\n",
    "This should return\n",
    "```['EU', 'GDPR', 'IBM', 'IBM', 'EEA', 'EEA', 'IBM', 'PO', 'PO6', '3AU']```\n",
    "<hr/>"
   ]
  },
  {
   "cell_type": "code",
   "execution_count": null,
   "id": "143f31e4",
   "metadata": {},
   "outputs": [],
   "source": []
  },
  {
   "cell_type": "markdown",
   "id": "df25a3ce",
   "metadata": {},
   "source": [
    "#### <div class=\"alert alert-info\">Exercise 19 (sum equation)</div>\n",
    "\n",
    "Write a function `sum_equation` which takes a list of positive integers as parameters and returns a string with an equation of the sum of the elements.\n",
    "\n",
    "Example:\n",
    "`sum_equation([1,5,7])`\n",
    "returns\n",
    "`\"1 + 5 + 7 = 13\"`\n",
    "Observe, the spaces should be exactly as shown above. For an empty list the function should return the string \"0 = 0\".\n",
    "<hr/>"
   ]
  },
  {
   "cell_type": "code",
   "execution_count": null,
   "id": "d9db6d79",
   "metadata": {},
   "outputs": [],
   "source": []
  },
  {
   "cell_type": "markdown",
   "id": "31a997bb",
   "metadata": {},
   "source": [
    "#### <div class=\"alert alert-info\">Exercise 20 (usemodule)</div>\n",
    "\n",
    "Create your own module as file `triangle.py` in the `src` folder. The module should contain two functions:\n",
    "\n",
    "* `hypothenuse` which returns the length of the hypothenuse when given the lengths of two other sides of a right-angled triangle\n",
    "* `area` which returns the area of the right-angled triangle, when two sides, perpendicular to each other, are given as parameters.\n",
    "\n",
    "Make sure both the functions and the module have descriptive docstrings. Add also the `__version__` and `__author__` attributes to the module. Call both your functions from the main function (which is in file `usemodule.py`)."
   ]
  },
  {
   "cell_type": "code",
   "execution_count": null,
   "id": "f96076f2",
   "metadata": {},
   "outputs": [],
   "source": []
  }
 ],
 "metadata": {
  "language_info": {
   "name": "python"
  }
 },
 "nbformat": 4,
 "nbformat_minor": 5
}
