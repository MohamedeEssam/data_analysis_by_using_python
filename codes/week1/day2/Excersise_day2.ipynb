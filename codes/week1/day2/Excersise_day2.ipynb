{
 "cells": [
  {
   "cell_type": "markdown",
   "id": "408e82e2",
   "metadata": {},
   "source": [
    "#### <div class=\"alert alert-info\">Exercise 1 (integers in brackets)</div>\n",
    "\n",
    "Write function `integers_in_brackets` that finds from a given string all integers that are enclosed in brackets.\n",
    "\n",
    "Example run:\n",
    "`integers_in_brackets(\"  afd [asd] [12 ] [a34]  [ -43 ]tt [+12]xxx\")`\n",
    "returns\n",
    "`[12, -43, 12]`.\n",
    "So there can be whitespace between the number and the brackets, but no other character besides those that make up the integer.\n",
    "\n",
    "Test your function from the `main` function.\n",
    "<hr/>"
   ]
  },
  {
   "cell_type": "code",
   "execution_count": null,
   "id": "3c362359",
   "metadata": {},
   "outputs": [],
   "source": []
  },
  {
   "cell_type": "markdown",
   "id": "82858e4f",
   "metadata": {},
   "source": [
    "#### <div class=\"alert alert-info\">Exercise 2 (file listing)</div>\n",
    "\n",
    "The file `src/listing.txt` contains a list of files with one line per file. Each line contains seven fields: access rights, number of references, owner's name, name of owning group, file size, date, filename. These fields are separated with one or more spaces. Note that there may be spaces also within these seven fields.\n",
    "\n",
    "Write function `file_listing` that loads the file `src/listing.txt`. It should return a list of tuples (size, month, day, hour, minute, filename). Use regular expressions to do this (either `match`, `search`, `findall`, or `finditer` method).\n",
    "\n",
    "An example: for line\n",
    "```\n",
    "-rw-r--r-- 1 jttoivon hyad-all   25399 Nov  2 21:25 exception_hierarchy.pdf\n",
    "```\n",
    "the function should create the tuple `(25399, \"Nov\", 2, 21, 25, \"exception_hierarchy.pdf\")`.\n",
    "<hr/>"
   ]
  },
  {
   "cell_type": "code",
   "execution_count": null,
   "id": "5feece0b",
   "metadata": {},
   "outputs": [],
   "source": []
  },
  {
   "cell_type": "markdown",
   "id": "bd9c2e9e",
   "metadata": {},
   "source": [
    "#### <div class=\"alert alert-info\">Exercise 3 (red green blue)</div>\n",
    "\n",
    "The file `src/rgb.txt` contains names of colors and their numerical representations in RGB format. The RBG format allows a color to be represented as a mixture of red, green, and blue components. Each component can have an integer value in the range [0,255]. Each line in the file contains four fields: red, green, blue, and colorname.\n",
    "Each field is separated by some amount of whitespace (tab or space in this case).\n",
    "The text file is formatted to make it print nicely, but that makes it harder to process by a computer. Note that some color names can also contain a space character.\n",
    " \n",
    "Write function `red_green_blue` that reads the file `rgb.txt` from the folder `src`.  Remove the irrelevant first line of the file. The function should return a list of strings. Clean-up the file so that the strings in the returned list have four fields separated by a single tab character (`\\t`). Use regular expressions to do this.\n",
    "\n",
    "The first string in the returned list should be:\n",
    "```\n",
    "'255\\t250\\t250\\tsnow'\n",
    "```\n",
    "\n",
    "<hr/>"
   ]
  },
  {
   "cell_type": "code",
   "execution_count": null,
   "id": "05692ebb",
   "metadata": {},
   "outputs": [],
   "source": []
  },
  {
   "cell_type": "markdown",
   "id": "49de8dc0",
   "metadata": {},
   "source": [
    "#### <div class=\"alert alert-info\">Exercise 4 (word frequencies)</div>\n",
    "\n",
    "Create function `word_frequencies` that gets a filename as a parameter and returns a dict with the word frequencies. In the dictionary the keys are the words and the corresponding values are the number of times that word occurred in the file specified by the function parameter. Read all the lines from the file and split the lines into words using the `split()` method. Further, remove punctuation from the ends of words using the `strip(\"\"\"!\"#$%&'()*,-./:;?@[]_\"\"\")` method call.\n",
    "\n",
    "Test this function in the main function using the file `alice.txt`. In the output, there should be a word and its count per line separated by a tab:\n",
    "\n",
    "```\n",
    "The     64\n",
    "Project 83\n",
    "Gutenberg\t26\n",
    "EBook   3\n",
    "of      303\n",
    "```\n",
    "\n",
    "<hr/>"
   ]
  },
  {
   "cell_type": "code",
   "execution_count": null,
   "id": "a3d87c06",
   "metadata": {},
   "outputs": [],
   "source": []
  },
  {
   "cell_type": "markdown",
   "id": "342e2841",
   "metadata": {},
   "source": [
    "#### <div class=\"alert alert-info\">Exercise 5 (summary)</div>\n",
    "\n",
    "This exercise can give two points at maximum!\n",
    "\n",
    "Part 1.\n",
    "\n",
    "Create a function called `summary` that gets a filename as a parameter. The input\n",
    "file should contain a floating point number on each line of the file. Make your function read these\n",
    "numbers and then return a triple containing the sum, average, and standard deviation of these numbers for the file.\n",
    "As a reminder, the formula for corrected sample standard deviation is\n",
    "$\\sqrt{\\frac{\\sum_{i=1}^n (x_i - \\overline x)^2}{n-1}}$, where $\\overline x$ is the average.\n",
    "\n",
    "The `main` function should call the function summary for each filename in the list `sys.argv[1:]` of command line parameters. (Skip `sys.argv[0]` since it contains the name of the current program.)\n",
    "\n",
    "Example of usage from the command line:\n",
    "`python3 src/summary.py src/example.txt src/example2.txt`\n",
    "\n",
    "Print floating point numbers using six decimals precision. The output should look like this:\n",
    "```\n",
    "File: src/example.txt Sum: 51.400000 Average: 10.280000 Stddev: 8.904606\n",
    "File: src/example2.txt Sum: 5446.200000 Average: 1815.400000 Stddev: 3124.294045\n",
    "```\n",
    "\n",
    "Part 2.\n",
    "\n",
    "If some line doesn’t represent a number, you can just ignore that line. You can achieve this with the *try-except* block. An example of recovering from an exceptional situation:\n",
    "```python\n",
    "try:\n",
    "    x = float(line)           # The float constructor raises ValueError exception if conversion is no possible\n",
    "except ValueError:\n",
    "    # Statements in here are executed when the above conversion fails\n",
    "```\n",
    "We will cover more about exceptions later in the course.\n",
    "\n",
    "<hr/>"
   ]
  },
  {
   "cell_type": "markdown",
   "id": "410e2734",
   "metadata": {},
   "source": [
    "#### <div class=\"alert alert-info\">Exercise 6 (file count)</div>\n",
    "\n",
    "This exercise can give two points at maximum!\n",
    "\n",
    "Part 1.\n",
    "\n",
    "Create a function `file_count` that gets a filename as parameter and returns a triple of numbers. The function should read the file, count the number of lines, words, and characters in the file, and return a triple with these count in this order. You get division into words by splitting at whitespace. You don't have to remove punctuation.\n",
    "\n",
    "Part 2.\n",
    "\n",
    "Create a main function that in a loop calls `file_count` using each filename in the list of command line parameters `sys.argv[1:]` as a parameter, in turn.\n",
    "For call `python3 src/file_count file1 file2 ...`\n",
    "the output should be\n",
    "```\n",
    "?      ?       ?       file1\n",
    "?      ?       ?       file2\n",
    "...\n",
    "```\n",
    "The fields are separated by tabs (`\\t`). The fields are in order: linecount, wordcount, charactercount, filename.\n",
    "<hr/>"
   ]
  },
  {
   "cell_type": "code",
   "execution_count": null,
   "id": "3ef1987b",
   "metadata": {},
   "outputs": [],
   "source": []
  },
  {
   "cell_type": "markdown",
   "id": "e825a8bc",
   "metadata": {},
   "source": [
    "#### <div class=\"alert alert-info\">Exercise 7 (file extensions)</div>\n",
    "\n",
    "This exercise can give two points at maximum!\n",
    "\n",
    "Part 1.\n",
    "\n",
    "Write function `file_extensions` that gets as a parameter a filename.\n",
    "It should read through the lines from this file. Each line contains a filename.\n",
    "Find the extension for each filename. The function should return a pair, where the\n",
    "first element is a list containing all filenames with no extension (with the preceding period (`.`) removed).\n",
    "The second element of the pair is a dictionary with extensions as keys and corresponding values are lists with filenames having that extension.\n",
    "\n",
    "Sounds a bit complicated, but hopefully the next example will clarify this.\n",
    "If the file contains the following lines\n",
    "```\n",
    "file1.txt\n",
    "mydocument.pdf\n",
    "file2.txt\n",
    "archive.tar.gz\n",
    "test\n",
    "```\n",
    "then the return value should be the pair:\n",
    "`([\"test\"], { \"txt\" : [\"file1.txt\", \"file2.txt\"], \"pdf\" : [\"mydocument.pdf\"], \"gz\" : [\"archive.tar.gz\"] } )`\n",
    "\n",
    "Part 2.\n",
    "\n",
    "Write a `main` method that calls the `file_extensions` function with \"src/filenames.txt\" as the argument. Then print the results so that for each extension there is a line consisting of the extension and the number of files with that extension. The first line of the output should give the number of files without extensions.\n",
    "\n",
    "With the example in part 1, the output should be\n",
    "```\n",
    "1 files with no extension\n",
    "gz 1\n",
    "pdf 1\n",
    "txt 2\n",
    "```\n",
    "Had there been no filenames without extension then the first line would have been `0 files with no extension`. In the printout list the extensions in alphabetical order.\n",
    "<hr/>"
   ]
  },
  {
   "cell_type": "code",
   "execution_count": null,
   "id": "40926313",
   "metadata": {},
   "outputs": [],
   "source": []
  },
  {
   "cell_type": "markdown",
   "id": "1f5dde39",
   "metadata": {},
   "source": [
    "#### <div class=\"alert alert-info\">Exercise 8 (prepend)</div>\n",
    "\n",
    "Create a class called `Prepend`. We create an instance of the class by giving a string as a parameter\n",
    "to the initializer. The initializer stores the parameter in an instance attribute `start`. The class\n",
    "also has a method `write(s)` which prints the string `s` prepended with the `start` string.\n",
    "An example of usage:\n",
    "```python\n",
    "p = Prepend(\"+++ \")\n",
    "p.write(\"Hello\");\n",
    "```\n",
    "Will print\n",
    "```\n",
    "+++ Hello\n",
    "```\n",
    "\n",
    "Try out using the class from the `main` function.\n",
    "<hr/>"
   ]
  },
  {
   "cell_type": "code",
   "execution_count": null,
   "id": "bf83a6c8",
   "metadata": {},
   "outputs": [],
   "source": []
  },
  {
   "cell_type": "markdown",
   "id": "a2872ad5",
   "metadata": {},
   "source": [
    "#### <div class=\"alert alert-info\">Exercise 9 (rational)</div>\n",
    "\n",
    "\n",
    "Create a class `Rational` whose instances are rational numbers. A new rational number can be\n",
    "created with the call to the class. For example, the call `r=Rational(1,4)` creates a rational\n",
    "number “one quarter”. Make the instances support the following operations:\n",
    "`+` `-` `*` `/` `<` `>` `==`\n",
    "with their natural behaviour. Make the rationals also printable so that from the printout we can\n",
    "clearly see that they are rational numbers.\n",
    "<hr/>"
   ]
  },
  {
   "cell_type": "code",
   "execution_count": null,
   "id": "2bf1cd5f",
   "metadata": {},
   "outputs": [],
   "source": []
  },
  {
   "cell_type": "markdown",
   "id": "700afaa4",
   "metadata": {},
   "source": [
    "#### <div class=\"alert alert-info\">Exercise 10 (extract numbers)</div>\n",
    "\n",
    "Write a function `extract_numbers` that gets a string as a parameter. It should return a list of numbers that can be both ints and floats. Split the string to words at whitespace using the `split()` method. Then iterate through each word, and initially try to convert to an int. If unsuccesful, then try to convert to a float. If not a number then skip the word.\n",
    "\n",
    "Example run:\n",
    "`print(extract_numbers(\"abd 123 1.2 test 13.2 -1\"))`\n",
    "will return\n",
    "`[123, 1.2, 13.2, -1]`\n",
    "<hr/>"
   ]
  },
  {
   "cell_type": "code",
   "execution_count": null,
   "id": "33d9f3d7",
   "metadata": {},
   "outputs": [],
   "source": []
  }
 ],
 "metadata": {
  "language_info": {
   "name": "python"
  }
 },
 "nbformat": 4,
 "nbformat_minor": 5
}
