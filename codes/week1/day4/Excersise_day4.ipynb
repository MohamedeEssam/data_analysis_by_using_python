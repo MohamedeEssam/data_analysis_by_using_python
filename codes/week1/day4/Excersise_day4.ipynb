{
 "cells": [
  {
   "cell_type": "markdown",
   "id": "b62132e1",
   "metadata": {},
   "source": [
    "#### <div class=\"alert alert-info\">Exercise 1 (column comparison)</div>\n",
    "\n",
    "Write function `column_comparison` that gets a two dimensional array as parameter. The function should return a new array containing those rows from the input that have the value in the second column larger than in the second last column. You may assume that the input contains at least two columns. Don't use loops, but instead vectorized operations. Try out your function in the main function.\n",
    "\n",
    "For array\n",
    "\n",
    "```\n",
    " [[8 9 3 8 8]\n",
    " [0 5 3 9 9]\n",
    " [5 7 6 0 4]\n",
    " [7 8 1 6 2]\n",
    " [2 1 3 5 8]]\n",
    "```\n",
    "the result would be\n",
    "```\n",
    " [[8 9 3 8 8]\n",
    " [5 7 6 0 4]\n",
    " [7 8 1 6 2]]\n",
    "```\n",
    "<hr/>"
   ]
  },
  {
   "cell_type": "code",
   "execution_count": null,
   "id": "3ed072ba",
   "metadata": {},
   "outputs": [],
   "source": []
  },
  {
   "cell_type": "markdown",
   "id": "0041e482",
   "metadata": {},
   "source": [
    "#### <div class=\"alert alert-info\">Exercise 2 (first half second half)</div>\n",
    "\n",
    "Write function `first_half_second_half` that gets a two dimensional array of shape `(n,2*m)` as a parameter. The input array has `2*m` columns. The output from the function should be a matrix with those rows from the input that have the sum of the first `m` elements larger than the sum of the last `m` elements on the row. Your solution should call the `np.sum` function or the corresponding method exactly twice.\n",
    "\n",
    "Example of usage:\n",
    "```python\n",
    "a = np.array([[1, 3, 4, 2],\n",
    "              [2, 2, 1, 2]])\n",
    "first_half_second_half(a)\n",
    "array([[2, 2, 1, 2]])\n",
    "```\n",
    "<hr/>"
   ]
  },
  {
   "cell_type": "code",
   "execution_count": null,
   "id": "17e07f74",
   "metadata": {},
   "outputs": [],
   "source": []
  },
  {
   "cell_type": "markdown",
   "id": "ea96df94",
   "metadata": {},
   "source": [
    "#### <div class=\"alert alert-info\">Exercise 3 (most frequent first)</div>\n",
    "\n",
    "**<span style=\"color:red\">Note:</span>** This exercise is fairly difficult. Feel free to skip if you get stuck.\n",
    "\n",
    "Write function `most_frequent_first` that gets a two dimensional array and an index `c` of a column as parameters. The function should then return the array whose rows are sorted based on column `c`, in the following way. Rows are ordered so that those rows with the most frequent element in column `c` come first, then come the rows with the second most frequent element in column `c`, and so on. Therefore, the values outside column `c` don't affect the ordering in any way.\n",
    "\n",
    "Example of usage:\n",
    "```\n",
    "a:\n",
    " [[5 0 3 3 7 9 3 5 2 4]\n",
    " [7 6 8 8 1 6 7 7 8 1]\n",
    " [5 9 8 9 4 3 0 3 5 0]\n",
    " [2 3 8 1 3 3 3 7 0 1]\n",
    " [9 9 0 4 7 3 2 7 2 0]\n",
    " [0 4 5 5 6 8 4 1 4 9]\n",
    " [8 1 1 7 9 9 3 6 7 2]\n",
    " [0 3 5 9 4 4 6 4 4 3]\n",
    " [4 4 8 4 3 7 5 5 0 1]\n",
    " [5 9 3 0 5 0 1 2 4 2]]\n",
    "print(most_frequent_first(a, -1))\n",
    " [[4 4 8 4 3 7 5 5 0 1]\n",
    " [2 3 8 1 3 3 3 7 0 1]\n",
    " [7 6 8 8 1 6 7 7 8 1]\n",
    " [5 9 3 0 5 0 1 2 4 2]\n",
    " [8 1 1 7 9 9 3 6 7 2]\n",
    " [9 9 0 4 7 3 2 7 2 0]\n",
    " [5 9 8 9 4 3 0 3 5 0]\n",
    " [0 3 5 9 4 4 6 4 4 3]\n",
    " [0 4 5 5 6 8 4 1 4 9]\n",
    " [5 0 3 3 7 9 3 5 2 4]]\n",
    "```\n",
    "\n",
    "If we look at the last column, we see that the number 1 appears three times, then both numbers 2 and 0 appear twice, and lastly numbers 3, 9, and 4 appear only once. Note that, for example, among those rows that contain in column `c` a number that appear twice in column `c` the order can be arbitrary.\n",
    "\n",
    "Hint: the function `np.unique` may be useful.\n",
    "\n",
    "<hr/>"
   ]
  },
  {
   "cell_type": "code",
   "execution_count": null,
   "id": "029d0210",
   "metadata": {},
   "outputs": [],
   "source": []
  },
  {
   "cell_type": "markdown",
   "id": "a0f0bcb9",
   "metadata": {},
   "source": [
    "#### <div class=\"alert alert-info\">Exercise 4 (matrix power)</div>\n",
    "\n",
    "Repeat the functionality of the NumPy function `numpy.linalg.matrix_power`, which raises a square matrix of shape (m,m) to the `n`th power. Here the multiplication is the matrix multiplication. Square matrix `a` raised to power `n` is therefore `a @ a @ ... @ a` where `a` is repeated `n` times. When n is zero then $a^0$ is equal to `np.eye(m)`.\n",
    "\n",
    "Write function `matrix_power` that gets as first argument a square matrix `a` and as second argument a non-negative integer `n`. The function should return the matrix `a` multiplied by itself `n-1` times.\n",
    "Use Python's `reduce` function and a generator expression.\n",
    "\n",
    "Extend the `matrix_power` function.\n",
    "For negative powers, we define $a^{-1}$ to be equal to the multiplicative inverse of `a`. You can use NumPy's function `numpy.linalg.inv` for this. And you may assume that the input matrix is invertible.\n",
    "\n",
    "<hr/>"
   ]
  },
  {
   "cell_type": "code",
   "execution_count": null,
   "id": "2173347d",
   "metadata": {},
   "outputs": [],
   "source": []
  },
  {
   "cell_type": "markdown",
   "id": "af3bb397",
   "metadata": {},
   "source": [
    "#### <div class=\"alert alert-info\">Exercise 5 (correlation)</div>\n",
    "\n",
    "This exercise can give two points at maximum!\n",
    "\n",
    "Load the iris dataset using the provided function `load()` in the stub solution. The four columns of the returned array correspond to\n",
    "\n",
    "* sepal length (cm)\n",
    "* sepal width (cm)\n",
    "* petal length (cm)\n",
    "* petal width (cm)\n",
    "\n",
    "Part 1. What is the Pearson correlation between the variables `sepal length` and `petal length`. Compute this using the `scipy.stats.pearsonr` function. It returns a tuple whose first element is the correlation. Write a function `lengths` that loads the data and returns the correlation.\n",
    "\n",
    "Part 2. What are the correlations between all the variables. Write a function `correlations` that returns an array of shape (4,4) containing the correlations. Use the function `np.corrcoef`. Which pair of variables is the most highly correlated?\n",
    "\n",
    "Note the input formats of both functions `pearsonr` and `corrcoef`.\n",
    "\n",
    "<hr/>"
   ]
  },
  {
   "cell_type": "code",
   "execution_count": null,
   "id": "6c8bbce2",
   "metadata": {},
   "outputs": [],
   "source": []
  },
  {
   "cell_type": "markdown",
   "id": "7e3dc2ec",
   "metadata": {},
   "source": [
    "#### <div class=\"alert alert-info\">Exercise 6 (meeting lines)</div>\n",
    "\n",
    "Write function `meeting_lines` that gets the coefficients of two lines as parameters and returns the point where the two lines meet. The equations for the lines are $y=a_1x + b_1$ and $y=a_2x + b_2$. Use the `np.linalg.solve` function. Create a main function to test your solution.\n",
    "\n",
    "Example of usage:\n",
    "```\n",
    "x, y = meeting_lines(a1, b1, a2, b2)\n",
    "```\n",
    "<hr/>"
   ]
  },
  {
   "cell_type": "code",
   "execution_count": null,
   "id": "614e6bed",
   "metadata": {},
   "outputs": [],
   "source": []
  },
  {
   "cell_type": "markdown",
   "id": "87395131",
   "metadata": {},
   "source": [
    "#### <div class=\"alert alert-info\">Exercise 7 (meeting planes)</div>\n",
    "Write function `meeting_planes` that gets the coefficients of three planes as parameters and returns the point where the planes meet. The equations for the planes are:\n",
    "$z =a_1y + b_1x+ c_1$,\n",
    "$z =a_2y + b_2x+ c_2$, and\n",
    "$z =a_3y + b_3x+ c_3$.\n",
    "\n",
    "Example of usage:\n",
    "```\n",
    "x, y, z = meeting_planes(a1, b1, c1,  a2, b2, c2,  a3, b3, c3)\n",
    "```\n",
    "<hr/>"
   ]
  },
  {
   "cell_type": "code",
   "execution_count": null,
   "id": "3883b382",
   "metadata": {},
   "outputs": [],
   "source": []
  },
  {
   "cell_type": "markdown",
   "id": "3e5a2fa3",
   "metadata": {},
   "source": [
    "#### <div class=\"alert alert-info\">Exercise 8 (almost meeting lines)</div>\n",
    "In the earlier \"meeting lines\" exercise there is a problem if the lines don't meet at all. Extend that solution so that it tells the meeting point if it exists, and otherwise finds the point that is closest to the both lines.\n",
    "You can use the `numpy.linalg.lstsq` for this.\n",
    "\n",
    "Example of usage:\n",
    "```\n",
    "(x, y), exact = almost_meeting_lines(1, 2, -1, 0)\n",
    "print(x, y, exact)\n",
    "-1.000000 1.000000 True\n",
    "```\n",
    "\n",
    "<hr/>"
   ]
  },
  {
   "cell_type": "code",
   "execution_count": null,
   "id": "782124cf",
   "metadata": {},
   "outputs": [],
   "source": []
  }
 ],
 "metadata": {
  "language_info": {
   "name": "python"
  }
 },
 "nbformat": 4,
 "nbformat_minor": 5
}
