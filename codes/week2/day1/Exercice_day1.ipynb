{
 "cells": [
  {
   "cell_type": "markdown",
   "id": "ac52771b",
   "metadata": {},
   "source": [
    "#### <div class=\"alert alert-info\">Exercise 1 (read series)</div>\n",
    "\n",
    "Write function `read_series` that reads input lines from the user and return a Series. Each line should contain first the index and then the corresponding value, separated by whitespace. The index and values are strings (in this case `dtype` is `object`). An empty line signals the end of Series. Malformed input should cause an exception. An input line is malformed, if it is non-empty and, when split at whitespace, does not result in two parts.\n",
    "\n",
    "Test your function from the `main` function."
   ]
  },
  {
   "cell_type": "code",
   "execution_count": null,
   "id": "78979d3b",
   "metadata": {},
   "outputs": [],
   "source": []
  },
  {
   "cell_type": "markdown",
   "id": "484939fa",
   "metadata": {},
   "source": [
    "#### <div class=\"alert alert-info\">Exercise 2 (operations on series)</div>\n",
    "\n",
    "Write function `create_series` that gets two lists of numbers as parameters. Both lists should have length 3.\n",
    "The function should first create two Series, `s1` and `s2`. The first series should have values from the first parameter list and have corresponding indices `a`, `b`, and  `c`. The second series should get its values from the second parameter list and have again the corresponding indices `a`, `b`, and  `c`. The function should return the pair of these Series.\n",
    "\n",
    "Then, write a function `modify_series` that gets two Series as parameters. It should add to the first Series `s1` a new value with index `d`. The new value should be the same as the value in Series `s2` with index `b`.\n",
    "Then delete the element from `s2` that has index `b`. Now the first Series should have four values, while the second list has only two values. Adding a new element to a Series can be achieved by assignment, like with dictionaries. Deletion of an element from a Series can be done with the `del` statement.\n",
    "\n",
    "Test these functions from the main function. Try adding together the Series returned by the `modify_series` function. The operations on Series use the indices to keep the element-wise operations *aligned*. If for some index the operation could not be performed, the resulting value will be `NaN` (Not A Number).\n",
    "\n",
    "<hr/>"
   ]
  },
  {
   "cell_type": "code",
   "execution_count": null,
   "id": "08dab165",
   "metadata": {},
   "outputs": [],
   "source": []
  },
  {
   "cell_type": "markdown",
   "id": "ecf1b5f4",
   "metadata": {},
   "source": [
    "#### <div class=\"alert alert-info\">Exercise 3 (inverse series)</div>\n",
    "\n",
    "Write function `inverse_series` that get a Series as a parameter and returns a new series, whose indices and values have swapped roles. Test your function from the `main` function.\n",
    "\n",
    "What happens if some value appears multiple times in the original Series? What happens if you use this value to index the resulting Series?\n",
    "<hr/>"
   ]
  },
  {
   "cell_type": "code",
   "execution_count": null,
   "id": "a107ab97",
   "metadata": {},
   "outputs": [],
   "source": []
  }
 ],
 "metadata": {
  "language_info": {
   "name": "python"
  }
 },
 "nbformat": 4,
 "nbformat_minor": 5
}
