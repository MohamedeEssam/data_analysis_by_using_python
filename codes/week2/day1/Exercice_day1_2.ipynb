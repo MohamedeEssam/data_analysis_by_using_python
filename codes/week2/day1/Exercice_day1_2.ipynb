{
 "cells": [
  {
   "cell_type": "markdown",
   "id": "ac52771b",
   "metadata": {},
   "source": [
    "#### <div class=\"alert alert-info\">Exercise 1 (cities)</div>\n",
    "\n",
    "Write function `cities` that returns the following DataFrame of top Finnish cities by population:\n",
    "\n",
    "```\n",
    "                 Population Total area\n",
    "Helsinki         643272     715.48\n",
    "Espoo            279044     528.03\n",
    "Tampere          231853     689.59\n",
    "Vantaa           223027     240.35\n",
    "Oulu             201810     3817.52\n",
    "```\n",
    "\n",
    "<hr/>"
   ]
  },
  {
   "cell_type": "code",
   "execution_count": null,
   "id": "78979d3b",
   "metadata": {},
   "outputs": [],
   "source": []
  },
  {
   "cell_type": "markdown",
   "id": "484939fa",
   "metadata": {},
   "source": [
    "#### <div class=\"alert alert-info\">Exercise 2 (powers of series)</div>\n",
    "\n",
    "Make function `powers_of_series` that takes a Series and a positive integer `k` as parameters and returns a DataFrame. The resulting DataFrame should have the same index as the input Series. The first column of the dataFrame should be the input Series, the second column should contain the Series raised to power of two. The third column should contain the Series raised to the power of three, and so on until (and including) power of `k`. The columns should have indices from 1 to k.\n",
    "\n",
    "The values should be numbers, but the index can have any type.\n",
    "Test your function from the `main` function. Example of usage:\n",
    "\n",
    "```\n",
    "s = pd.Series([1,2,3,4], index=list(\"abcd\"))\n",
    "print(powers_of_series(s, 3))\n",
    "```\n",
    "Should print:\n",
    "```\n",
    "   1   2   3\n",
    "a  1   1   1\n",
    "b  2   4   8\n",
    "c  3   9  27\n",
    "d  4  16  64\n",
    "```\n",
    "\n",
    "\n",
    "<hr/>"
   ]
  },
  {
   "cell_type": "code",
   "execution_count": null,
   "id": "08dab165",
   "metadata": {},
   "outputs": [],
   "source": []
  },
  {
   "cell_type": "markdown",
   "id": "ecf1b5f4",
   "metadata": {},
   "source": [
    "#### <div class=\"alert alert-info\">Exercise 3 (municipal information)</div>\n",
    "\n",
    "In the `main` function load a data set of municipal information from the `src` folder (originally from [Statistics Finland](https://pxnet2.stat.fi/PXWeb/pxweb/en/)). Use the function `pd.read_csv`, and note that the separator is a tabulator.\n",
    "\n",
    "Print the shape of the DataFrame (number of rows and columns) and the column names in the following format:\n",
    "```\n",
    "Shape: r,c\n",
    "Columns:\n",
    "col1 \n",
    "col2\n",
    "...\n",
    "```\n",
    "\n",
    "Note, sometimes file ending `tsv` (tab separated values) is used instead of `csv` if the separator is a tab.\n",
    "<hr/>"
   ]
  },
  {
   "cell_type": "code",
   "execution_count": null,
   "id": "a107ab97",
   "metadata": {},
   "outputs": [],
   "source": []
  },
  {
   "cell_type": "markdown",
   "id": "84274d0f",
   "metadata": {},
   "source": [
    "#### <div class=\"alert alert-info\">Exercise 4 (municipalities of finland)</div>\n",
    "\n",
    "Load again the municipal information DataFrame. The rows of the DataFrame correspond to various geographical areas of Finland. The first row is about Finland as a whole, then rows from Akaa to Äänekoski are municipalities of Finland in alphabetical order. After that some larger regions are listed.\n",
    "\n",
    "Write function `municipalities_of_finland` that returns a DataFrame containing only rows about municipalities.\n",
    "Give an appropriate argument for `pd.read_csv` so that it interprets the column about region name as the (row) index. This way you can index the DataFrame with the names of the regions.\n",
    "\n",
    "Test your function from the `main` function.\n",
    "<hr/>"
   ]
  },
  {
   "cell_type": "code",
   "execution_count": null,
   "id": "27ccfc24",
   "metadata": {},
   "outputs": [],
   "source": []
  },
  {
   "cell_type": "markdown",
   "id": "6d551c77",
   "metadata": {},
   "source": [
    "#### <div class=\"alert alert-info\">Exercise 5 (swedish and foreigners)</div>\n",
    "\n",
    "Write function `swedish_and_foreigners` that\n",
    "\n",
    "* Reads the municipalities data set\n",
    "* Takes the subset about municipalities (like in previous exercise)\n",
    "* Further take a subset of rows that have proportion of Swedish speaking people and proportion of foreigners both above 5 % level\n",
    "* From this data set take only columns about population, the proportions of Swedish speaking people and foreigners, that is three columns.\n",
    "\n",
    "The function should return this final DataFrame.\n",
    "\n",
    "Do you see some kind of correlation between the columns about Swedish speaking and foreign people? Do you see correlation between the columns about the population and the proportion of Swedish speaking people in this subset?\n",
    "\n",
    "<hr/>"
   ]
  },
  {
   "cell_type": "code",
   "execution_count": null,
   "id": "c8071395",
   "metadata": {},
   "outputs": [],
   "source": []
  },
  {
   "cell_type": "markdown",
   "id": "d8b3c765",
   "metadata": {},
   "source": [
    "#### <div class=\"alert alert-info\">Exercise 6 (growing municipalities)</div>\n",
    "\n",
    "Write function `growing_municipalities` that gets subset of municipalities (a DataFrame) as a parameter and returns the proportion of municipalities with increasing population in that subset.\n",
    "\n",
    "Test your function from the `main` function using some subset of the municipalities.\n",
    "Print the proportion as percentages using 1 decimal precision.\n",
    "\n",
    "Example output:\n",
    "\n",
    "```\n",
    "Proportion of growing municipalities: 12.4%\n",
    "```\n",
    "\n",
    "<hr/>"
   ]
  },
  {
   "cell_type": "code",
   "execution_count": null,
   "id": "538a85b9",
   "metadata": {},
   "outputs": [],
   "source": []
  },
  {
   "cell_type": "markdown",
   "id": "69c03b7b",
   "metadata": {},
   "source": [
    "#### <div class=\"alert alert-info\">Exercise 7 (subsetting with loc)</div>\n",
    "\n",
    "Write function `subsetting_with_loc` that in one go takes the subset of municipalities from Akaa to Äänekoski and restricts it to columns: \"Population\", \"Share of Swedish-speakers of the population, %\", and \"Share of foreign citizens of the population, %\".\n",
    "The function should return this content as a DataFrame. Use the attribute `loc`.\n",
    "\n",
    "\n",
    "<hr/>"
   ]
  },
  {
   "cell_type": "code",
   "execution_count": null,
   "id": "bc0e4144",
   "metadata": {},
   "outputs": [],
   "source": []
  },
  {
   "cell_type": "markdown",
   "id": "76c9f521",
   "metadata": {},
   "source": [
    "#### <div class=\"alert alert-info\">Exercise 8 (subsetting by positions)</div>\n",
    "\n",
    "Write function `subsetting_by_positions` that does the following.\n",
    "\n",
    "Read the data set of the top forty singles from the beginning of the year 1964 from the `src` folder. Return the top 10 entries and only the columns `Title` and `Artist`. Get these elements by their positions, that is, by using a single call to the `iloc` attribute. The function should return these as a DataFrame.\n",
    "\n",
    "<hr/>"
   ]
  },
  {
   "cell_type": "code",
   "execution_count": null,
   "id": "7e721fc6",
   "metadata": {},
   "outputs": [],
   "source": []
  },
  {
   "cell_type": "markdown",
   "id": "e069834d",
   "metadata": {},
   "source": [
    "#### <div class=\"alert alert-info\">Exercise 9 (snow depth)</div>\n",
    "\n",
    "Write function `snow_depth` that reads in the weather DataFrame from the `src` folder and returns the maximum amount of snow in the year 2017.\n",
    "\n",
    "Print the result in the `main` function in the following form:\n",
    "```\n",
    "Max snow depth: xx.x\n",
    "```\n",
    "\n",
    "<hr/>"
   ]
  },
  {
   "cell_type": "code",
   "execution_count": null,
   "id": "14f20c7c",
   "metadata": {},
   "outputs": [],
   "source": []
  },
  {
   "cell_type": "markdown",
   "id": "c4b0f0bd",
   "metadata": {},
   "source": [
    "#### <div class=\"alert alert-info\">Exercise 10 (average temperature)</div>\n",
    "\n",
    "Write function `average_temperature` that reads the weather data set and returns the average temperature in July.\n",
    "\n",
    "Print the result in the `main` function in the following form:\n",
    "```\n",
    "Average temperature in July: xx.x\n",
    "```\n",
    "<hr/>"
   ]
  },
  {
   "cell_type": "code",
   "execution_count": null,
   "id": "2b21eea8",
   "metadata": {},
   "outputs": [],
   "source": []
  },
  {
   "cell_type": "markdown",
   "id": "29d310d9",
   "metadata": {},
   "source": [
    "#### <div class=\"alert alert-info\">Exercise 11 (below zero)</div>\n",
    "\n",
    "Write function `below_zero` that returns the number of days when the temperature was below zero.\n",
    "\n",
    "Print the result in the main function in the following form:\n",
    "\n",
    "```\n",
    "Number of days below zero: xx\n",
    "```\n",
    "<hr/>"
   ]
  },
  {
   "cell_type": "code",
   "execution_count": null,
   "id": "2c095604",
   "metadata": {},
   "outputs": [],
   "source": []
  },
  {
   "cell_type": "markdown",
   "id": "68921d0c",
   "metadata": {},
   "source": [
    "#### <div class=\"alert alert-info\">Exercise 12 (cyclists)</div>\n",
    "\n",
    "Write function `cyclists` that does the following.\n",
    "\n",
    "Load the Helsinki bicycle data set from the `src` folder (https://hri.fi/data/dataset//helsingin-pyorailijamaarat). The dataset contains the number of cyclists passing by measuring points per hour. The data is gathered over about four years, and there are 20 measuring points around Helsinki. The dataset contains some empty rows at the end. Get rid of these. Also, get rid of columns that contain only missing values. Return the cleaned dataset. \n",
    "\n",
    "<hr/>"
   ]
  },
  {
   "cell_type": "code",
   "execution_count": null,
   "id": "2fe68df0",
   "metadata": {},
   "outputs": [],
   "source": []
  },
  {
   "cell_type": "markdown",
   "id": "a19e9693",
   "metadata": {},
   "source": [
    "#### <div class=\"alert alert-info\">Exercise 13 (missing value types)</div>\n",
    "\n",
    "Make function `missing_value_types` that returns the following DataFrame. Use the `State` column as the (row) index. The value types for the two other columns should be `float` and `object`, respectively. Replace the dashes with the appropriate missing value symbols.\n",
    "\n",
    "State | Year of independence | President\n",
    "------|----------------------|----------\n",
    "United Kingdom | - | -\n",
    "Finland | 1917 | Niinistö\n",
    "USA | 1776 | Trump\n",
    "Sweden | 1523 | -\n",
    "Germany | - | Steinmeier\n",
    "Russia | 1992 | Putin\n",
    "\n",
    "<hr/>"
   ]
  },
  {
   "cell_type": "code",
   "execution_count": null,
   "id": "4d264045",
   "metadata": {},
   "outputs": [],
   "source": []
  },
  {
   "cell_type": "markdown",
   "id": "5bf9145f",
   "metadata": {},
   "source": [
    "#### <div class=\"alert alert-info\">Exercise 14 (special missing values)</div>\n",
    "\n",
    "Write function `special_missing_values` that does the following.\n",
    "\n",
    "Read the data set of the top forty singles from the beginning of the year 1964 from the `src` folder. Return the rows whose singles' position dropped compared to last week's position (column LW=Last Week).\n",
    "\n",
    "To do this you first have to convert the special values \"New\" and \"Re\" (Re-entry) to missing values (`None`).\n",
    "\n",
    "<hr/>"
   ]
  },
  {
   "cell_type": "code",
   "execution_count": null,
   "id": "6c55d74a",
   "metadata": {},
   "outputs": [],
   "source": []
  },
  {
   "cell_type": "markdown",
   "id": "4bb490f7",
   "metadata": {},
   "source": [
    "#### <div class=\"alert alert-info\">Exercise 15 (last week)</div>\n",
    "\n",
    "This exercise can give two points at maximum!\n",
    "\n",
    "Write function `last_week` that reads the top40 data set mentioned in the above exercise. The function should then try to reconstruct the top40 list of the previous week based on that week's list. Try to do this as well as possible. You can fill the values that are impossible to reconstruct by missing value symbols. Your solution should work for a top40 list of any week. So don't rely on specific features of this top40 list. The column `WoC` means \"Weeks on Chart\", that is, on how many weeks this song has been on the top 40 list.\n",
    "\n",
    "Hint. First create the last week's top40 list of those songs that are also on this week's list. Then add those entries that were not on this week's list. Finally sort by position.\n",
    "\n",
    "Hint 2. The `where` method of Series and DataFrame can be useful. It can also be nested.\n",
    "\n",
    "Hint 3. Like in NumPy, you can use with Pandas the bitwise operators `&`, `|`, and `~`.\n",
    "Remember that he bitwise operators have higher precedence than the comparison operations, so you may\n",
    "have to use parentheses around comparisons, if you combined result of comparisons with bitwise operators.\n",
    "\n",
    "You get a second point, if you get the columns `LW` and `Peak Pos` correct.\n",
    "\n",
    "<hr/>"
   ]
  },
  {
   "cell_type": "code",
   "execution_count": null,
   "id": "84e0e78a",
   "metadata": {},
   "outputs": [],
   "source": []
  },
  {
   "cell_type": "markdown",
   "id": "364c0b65",
   "metadata": {},
   "source": [
    "#### <div class=\"alert alert-info\">Exercise 16 (split date)</div>\n",
    "\n",
    "Read again the bicycle data set from `src` folder,\n",
    "and clean it as in the earlier exercise. Then split the `Päivämäärä` column into a DataFrame with five columns with column names `Weekday`, `Day`, `Month`, `Year`, and `Hour`. Note that you also need to to do some conversions. To get Hours, drop the colon and minutes. Convert field `Weekday` according the following rule:\n",
    "```\n",
    "ma -> Mon\n",
    "ti -> Tue\n",
    "ke -> Wed\n",
    "to -> Thu\n",
    "pe -> Fri\n",
    "la -> Sat\n",
    "su -> Sun\n",
    "```\n",
    "Convert the `Month` column according to the following mapping\n",
    "```\n",
    "tammi 1\n",
    "helmi 2\n",
    "maalis 3\n",
    "huhti 4\n",
    "touko 5\n",
    "kesä 6\n",
    "heinä 7\n",
    "elo 8\n",
    "syys 9\n",
    "loka 10\n",
    "marras 11\n",
    "joulu 12\n",
    "```\n",
    "\n",
    "Create function `split_date` that does the above and returns a DataFrame with five columns. You may want to use the `map` method of Series objects.\n",
    "\n",
    "So the first element in the `Päivämäärä` column of the original data set should be converted from\n",
    "`ke 1 tammi 2014 00:00`\n",
    "to\n",
    "`Wed 1 1 2014 0` . Test your solution from the `main` function.\n",
    "<hr/>"
   ]
  },
  {
   "cell_type": "code",
   "execution_count": null,
   "id": "8d1616e1",
   "metadata": {},
   "outputs": [],
   "source": []
  },
  {
   "cell_type": "markdown",
   "id": "ce270698",
   "metadata": {},
   "source": [
    "#### <div class=\"alert alert-info\">Exercise 17 (cleaning data)</div>\n",
    "\n",
    "This exercise can give two points at maximum!\n",
    "\n",
    "The entries in the following table of US presidents are not uniformly formatted. Make function `cleaning_data` that reads the table from the tsv file `src/presidents.tsv` and returns the cleaned version of it. Note, you must do the edits programmatically using the string edit methods, not by creating a new DataFrame by hand. The columns should have `dtype`s `object`, `integer`, `float`, `integer`, `object`. The `where` method of DataFrames can be helpful, likewise the [string methods](https://pandas.pydata.org/pandas-docs/stable/user_guide/text.html#string-methods) of Series objects. You get an additional point, if you manage to get the columns President and Vice-president right!\n",
    "\n",
    "President |\tStart |\tLast |\tSeasons | \tVice-president|\n",
    "----------|-------|------|----------|------------------|\n",
    "donald trump|\t2017 Jan|\t-|\t1|\tMike pence\n",
    "barack obama|\t2009|\t2017|\t2|\tjoe Biden\n",
    "bush, george|\t2001|\t2009|\t2|\tCheney, dick\n",
    "Clinton, Bill|\t1993|\t2001|\ttwo|\tgore, Al"
   ]
  },
  {
   "cell_type": "markdown",
   "id": "4a531405",
   "metadata": {},
   "source": []
  }
 ],
 "metadata": {
  "language_info": {
   "name": "python"
  }
 },
 "nbformat": 4,
 "nbformat_minor": 5
}
