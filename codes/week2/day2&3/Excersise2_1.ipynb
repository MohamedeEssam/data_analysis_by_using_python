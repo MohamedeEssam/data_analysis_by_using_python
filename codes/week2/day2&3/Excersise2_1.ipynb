{
 "cells": [
  {
   "cell_type": "markdown",
   "id": "6f6c6f4e",
   "metadata": {},
   "source": [
    "#### <div class=\"alert alert-info\">Exercise 1 (split date continues)</div>\n",
    "\n",
    "Write function `split_date_continues` that does\n",
    "\n",
    "* read the bicycle data set\n",
    "* clean the data set of columns/rows that contain only missing values\n",
    "* drops the `Päivämäärä` column and replaces it with its splitted components as before\n",
    "\n",
    "Use the `concat` function to do this. The function should return a DataFrame with 25 columns (first five related to the date and then the rest 20 conserning the measument location.\n",
    "\n",
    "**Hint**: You may use your solution or the model solution from exercise 16 of the previous set as a starting point.\n",
    "<hr/>"
   ]
  },
  {
   "cell_type": "code",
   "execution_count": null,
   "id": "4beb0234",
   "metadata": {},
   "outputs": [],
   "source": []
  },
  {
   "cell_type": "markdown",
   "id": "30377513",
   "metadata": {},
   "source": [
    "#### <div class=\"alert alert-info\">Exercise 2 (cycling weather)</div>\n",
    "\n",
    "Merge the processed cycling data set (from the previous exercise) and weather data set along the columns year, month, and day. Note that the names of these columns might be different in the two tables: use the `left_on` and `right_on` parameters. Then drop useless columns 'm', 'd', 'Time', and 'Time zone'.\n",
    "\n",
    "Write function `cycling_weather` that reads the data sets and returns the resulting DataFrame.\n",
    "\n",
    "<hr/>"
   ]
  },
  {
   "cell_type": "code",
   "execution_count": null,
   "id": "bdda83d6",
   "metadata": {},
   "outputs": [],
   "source": []
  },
  {
   "cell_type": "markdown",
   "id": "1e052e7e",
   "metadata": {},
   "source": [
    "#### <div class=\"alert alert-info\">Exercise 3 (top bands)</div>\n",
    "\n",
    "Merge the DataFrames UK top40 and the bands DataFrame that are stored in the `src` folder.\n",
    "Do all this in the parameterless function `top_bands`, which should return the merged DataFrame.\n",
    "Use the `left_on` and `right_on` parameters to `merge`. Test your function from the `main` function.\n",
    "\n",
    "<hr/>"
   ]
  },
  {
   "cell_type": "code",
   "execution_count": null,
   "id": "2697c4be",
   "metadata": {},
   "outputs": [],
   "source": []
  },
  {
   "cell_type": "markdown",
   "id": "422ad7fd",
   "metadata": {},
   "source": [
    "#### <div class=\"alert alert-info\">Exercise 4 (cyclists per day)</div>\n",
    "\n",
    "This exercise can give two points at maximum!\n",
    "\n",
    "Part 1.\n",
    "\n",
    "Read, clean and parse the bicycle data set as before. Group the rows by year, month, and day. Get the sum for each group.\n",
    "Make function `cyclists_per_day` that does the above. The function should return a DataFrame.\n",
    "Make sure that the columns Hour and Weekday are not included in the returned DataFrame.\n",
    "\n",
    "Part 2.\n",
    "\n",
    "In the `main` function, using the function `cyclists_per_day`, get the daily counts.  The index of the DataFrame now consists of tuples (Year, Month, Day). Then restrict this data to August of year 2017, and plot this data. Don't forget to call the `plt.show` function of matplotlib. The x-axis should have ticks from 1 to 31, and there should be a curve to each measuring station. Can you spot the weekends?\n",
    "\n",
    "<hr/>"
   ]
  },
  {
   "cell_type": "code",
   "execution_count": null,
   "id": "372f5084",
   "metadata": {},
   "outputs": [],
   "source": []
  },
  {
   "cell_type": "markdown",
   "id": "28fa930e",
   "metadata": {},
   "source": [
    "#### <div class=\"alert alert-info\">Exercise 5 (best record company)</div>\n",
    "\n",
    "We use again the UK top 40 data set from the first week of 1964 in the `src` folder. Here we define \"goodness\" of a record company (`Publisher`) based on the sum of the weeks on chart (WoC) of its singles. Return a DataFrame of the singles by the best record company (a subset of rows of the original DataFrame). Do this with function `best_record_company`.\n",
    "\n",
    "<hr/>"
   ]
  },
  {
   "cell_type": "code",
   "execution_count": null,
   "id": "a2c5c82b",
   "metadata": {},
   "outputs": [],
   "source": []
  },
  {
   "cell_type": "markdown",
   "id": "1abf7269",
   "metadata": {},
   "source": [
    "#### <div class=\"alert alert-info\">Exercise 6 (suicide fractions)</div>\n",
    "\n",
    "Load the suicide data set from `src` folder. This data was originally downloaded from [Kaggle](https://www.kaggle.com/szamil/who-suicide-statistics). Kaggle contains lots of interesting open data sets.\n",
    "\n",
    "Write function `suicide_fractions` that loads the data set and returns a Series that has the country as the (row) index and as the column the mean fraction of suicides per population in that country. In other words, the value is the average of suicide fractions. The information about year, sex and age is not used.\n",
    "\n",
    "<hr/>"
   ]
  },
  {
   "cell_type": "code",
   "execution_count": null,
   "id": "295eba27",
   "metadata": {},
   "outputs": [],
   "source": []
  },
  {
   "cell_type": "markdown",
   "id": "f7e9289a",
   "metadata": {},
   "source": [
    "#### <div class=\"alert alert-info\">Exercise 7 (suicide weather)</div>\n",
    "\n",
    "Copy the function `suicide fractions` from the previous exercise. \n",
    "\n",
    "Implement function `suicide_weather` as described below.\n",
    "We use the dataset of average temperature (over years 1961-1990) in different countries from `src/List_of_countries_by_average_yearly_temperature.html` (https://en.wikipedia.org/wiki/List_of_countries_by_average_yearly_temperature) .\n",
    "You can use the function `pd.read_html` to get all the tables from a html page. By default `pd.read_html` does not know which row contains column headers and which column contains row headers. Therefore, you have to give both `index_col` and `header` parameters to `read_html`. Maku sure you use the country as the (row) index for both of the DataFrames. What is the [Spearman correlation](https://en.wikipedia.org/wiki/Spearman%27s_rank_correlation_coefficient) between these variables? Use the `corr` method of Series object. Note the the two Series need not be sorted as the indices of the rows (country names) are used to align them.\n",
    "\n",
    "The return value of the function `suicide_weather` is a tuple (suicide_rows, temperature_rows, common_rows, spearman_correlation)\n",
    "The output from the `main` function should be of the following form:\n",
    "\n",
    "```\n",
    "Suicide DataFrame has x rows\n",
    "Temperature DataFrame has x rows\n",
    "Common DataFrame has x rows\n",
    "Spearman correlation: x.x\n",
    "```\n",
    "\n",
    "You might have trouble when trying to convert the temperatures to float. The is because the negative numbers on that html page use a special *unicode minus sign*, which looks typographically nice, but the float constructor cannot interpret it as a minus sign. You can try out the following example:"
   ]
  },
  {
   "cell_type": "code",
   "execution_count": null,
   "id": "6c5e3020",
   "metadata": {},
   "outputs": [],
   "source": []
  },
  {
   "cell_type": "markdown",
   "id": "827d0041",
   "metadata": {},
   "source": [
    "#### <div class=\"alert alert-info\">Exercise 8 (bicycle timeseries)</div>\n",
    "\n",
    "Write function `bicycle_timeseries` that\n",
    "\n",
    "* reads the data set\n",
    "* cleans it\n",
    "* turns its `Päivämäärä` column into (row) DatetimeIndex (that is, to row names) of that DataFrame\n",
    "* returns the new DataFrame\n",
    "\n",
    "<hr/>"
   ]
  },
  {
   "cell_type": "code",
   "execution_count": null,
   "id": "4d22611c",
   "metadata": {},
   "outputs": [],
   "source": []
  },
  {
   "cell_type": "markdown",
   "id": "16b752f2",
   "metadata": {},
   "source": [
    "#### <div class=\"alert alert-info\">Exercise 9 (commute)</div>\n",
    "\n",
    "In function `commute` do the following:\n",
    "\n",
    "Use the function `bicycle_timeseries` to get the bicycle data. Restrict to August 2017, group by the weekday, aggregate by summing. Set the `Weekday` column to numbers from one to seven. Then set the column `Weekday` as the (row) index. Return the resulting DataFrame from the function.\n",
    "\n",
    "In the `main` function plot the DataFrame. Xticklabels should be the weekdays. Don't forget to call `show` function!\n",
    "\n",
    "If you want the xticklabels to be `['Mon', 'Tue', 'Wed', 'Thu', 'Fr', 'Sat', 'Sun']` instead of numbers (1,..,7), then it may get a bit messy. There seems to be a problem with non-numeric `x` values. You could try the following after plotting, but you don't have to:\n",
    "\n",
    "```python\n",
    "weekdays=\"x mon tue wed thu fri sat sun\".title().split()\n",
    "plt.gca().set_xticklabels(weekdays)\n",
    "```\n",
    "\n",
    "<hr/>"
   ]
  },
  {
   "cell_type": "code",
   "execution_count": null,
   "id": "45b3337e",
   "metadata": {},
   "outputs": [],
   "source": []
  }
 ],
 "metadata": {
  "language_info": {
   "name": "python"
  }
 },
 "nbformat": 4,
 "nbformat_minor": 5
}
