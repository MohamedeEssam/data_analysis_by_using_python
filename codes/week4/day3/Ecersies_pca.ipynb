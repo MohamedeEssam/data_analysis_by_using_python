{
 "cells": [
  {
   "cell_type": "markdown",
   "id": "f9ca9207",
   "metadata": {},
   "source": [
    "#### <div class=\"alert alert-info\">Exercise 1 (explained variance)</div>\n",
    "\n",
    "This exercise can give two points at maximum!\n",
    "\n",
    "Part 1.\n",
    "\n",
    "Write function `explained_variance` which reads the tab separated file \"data.tsv\". The data contains 10 features. Then fit PCA to the data. The function should return two lists (or 1D arrays). The first list should contain the variances of all the features.  The second list should consist of the explained variances returned by the PCA.\n",
    "\n",
    "In the main function print these values in the following form:\n",
    "```\n",
    "The variances are: ?.??? ?.??? ...\n",
    "The explained variances after PCA are: ?.??? ?.??? ...\n",
    "```\n",
    "Print the values with three decimal precision and separate the values by a space.\n",
    "\n",
    "Part 2.\n",
    "\n",
    "Plot the cumulative explained variances. The y-axis should be the cumulative sum, and the x-axis the number of terms in the cumulative sum.\n",
    "<hr/>"
   ]
  }
 ],
 "metadata": {
  "language_info": {
   "name": "python"
  }
 },
 "nbformat": 4,
 "nbformat_minor": 5
}
