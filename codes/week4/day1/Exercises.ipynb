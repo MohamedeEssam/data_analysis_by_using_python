{
 "cells": [
  {
   "cell_type": "markdown",
   "id": "f0f0896a",
   "metadata": {},
   "source": [
    "#### <div class=\"alert alert-info\">Exercise 1 (linear regression)</div>\n",
    "\n",
    "This exercise can give two points at maximum!\n",
    "\n",
    "Part 1.\n",
    "\n",
    "Write a function `fit_line` that gets one dimensional arrays `x` and `y` as parameters. The function should return the tuple `(slope, intercept)` of the fitted line. Write a main program that tests the `fit_line` function with some example arrays. The main function should produce output in the following form:\n",
    "\n",
    "```\n",
    "Slope: 1.0\n",
    "Intercept: 1.16666666667\n",
    "```\n",
    "\n",
    "Part 2.\n",
    "\n",
    "Modify your `main` function to plot the fitted line using matplotlib, in addition to the textual output. Plot also the original data points.\n",
    "\n",
    "<hr/>"
   ]
  },
  {
   "cell_type": "code",
   "execution_count": null,
   "id": "2650d77c",
   "metadata": {},
   "outputs": [],
   "source": []
  },
  {
   "cell_type": "markdown",
   "id": "ef6e6465",
   "metadata": {},
   "source": [
    "#### <div class=\"alert alert-info\">Exercise 2 (mystery data)</div>\n",
    "Read the tab separated file `mystery_data.tsv`. Its first five columns define the features, and the last column is the response. Use scikit-learn's `LinearRegression` to fit this data. Implement function `mystery_data` that reads this file and learns and returns the regression coefficients for the five features. You don't have to fit the intercept. The `main` method should print output in the following form:\n",
    "\n",
    "```\n",
    "Coefficient of X1 is ...\n",
    "Coefficient of X2 is ...\n",
    "Coefficient of X3 is ...\n",
    "Coefficient of X4 is ...\n",
    "Coefficient of X5 is ...\n",
    "```\n",
    "\n",
    "Which features you think are needed to explain the response Y?\n",
    "\n",
    "<hr/>"
   ]
  },
  {
   "cell_type": "code",
   "execution_count": null,
   "id": "1927f96a",
   "metadata": {},
   "outputs": [],
   "source": []
  },
  {
   "cell_type": "markdown",
   "id": "1c486a5e",
   "metadata": {},
   "source": [
    "#### <div class=\"alert alert-info\">Exercise 3 (coefficient of determination)</div>\n",
    "\n",
    "This exercise can give two points at maximum!\n",
    "\n",
    "Using the same data as in the previous exercise, instead of printing the regression coefficients, print the *coefficient of determination*. The coefficient of determination, denoted by R2, tells how well the linear regression fits the data. The maximum value of the coefficient of determination is 1. That means the best possible fit.\n",
    "\n",
    "Part 1.\n",
    "\n",
    "Using all the features (X1 to X5), fit the data using a linear regression (include the intercept). Get the coefficient of determination using the `score` method of the `LinearRegression` class. Write a function `coefficient_of_determination` to do all this. It should return a list containing the R2-score as the only value.\n",
    "\n",
    "Part 2.\n",
    "\n",
    "Extend your function so that it also returns R2-scores related to linear regression with each single feature in turn. The `coefficient_of_determination` (https://en.wikipedia.org/wiki/Coefficient_of_determination) function should therefore return a list with six R2-scores (the first score is for five features, like in Part 1). To achieve this, your function should call both the `fit` method and the `score` method six times. \n",
    "\n",
    "The output from the main method should look like this:\n",
    "```\n",
    "R2-score with feature(s) X: ...\n",
    "R2-score with feature(s) X1: ...\n",
    "R2-score with feature(s) X2: ...\n",
    "R2-score with feature(s) X3: ...\n",
    "R2-score with feature(s) X4: ...\n",
    "R2-score with feature(s) X5: ...\n",
    "```\n",
    "How small can the R2-score be? Experiment both with fitting the intercept and without fitting the intercept.\n",
    "\n",
    "<hr/>"
   ]
  },
  {
   "cell_type": "code",
   "execution_count": null,
   "id": "35b296ba",
   "metadata": {},
   "outputs": [],
   "source": []
  },
  {
   "cell_type": "markdown",
   "id": "8f6f6fd2",
   "metadata": {},
   "source": [
    "#### <div class=\"alert alert-info\">Exercise 4 (cycling weather continues)</div>\n",
    "\n",
    "Write function `cycling_weather_continues` that tries to explain with linear regression the variable of a cycling measuring station's counts using the weather data from corresponding day. The function should take the name of a (cycling) measuring station as a parameter and return the regression coefficients and the score. In more detail:\n",
    "\n",
    "Read the weather data set from the `src` folder.  Read the cycling data set from folder `src` and restrict it to year 2017. Further, get the sums of cycling counts for each day. Merge the two datasets by the year, month, and day. \n",
    "Note that for the above you need only small additions to the solution of exercise `cycling_weather`.\n",
    "After this, use forward fill to fill the missing values.\n",
    "\n",
    "In the linear regression use as explanatory variables the following columns `'Precipitation amount (mm)'`, `'Snow depth (cm)'`, and `'Air temperature (degC)'`. Explain the variable (measuring station), whose name is given as a parameter to the function `cycling_weather_continues`. Fit also the intercept. The function should return a pair, whose first element is the regression coefficients and the second element is the score. Above, you may need to use the method `reset_index` (its counterpart is the method `set_index`).\n",
    "\n",
    "The output from the `main` function should be in the following form:\n",
    "\n",
    "```\n",
    "Measuring station: x\n",
    "Regression coefficient for variable 'precipitation': x.x\n",
    "Regression coefficient for variable 'snow depth': x.x\n",
    "Regression coefficient for variable 'temperature': x.x\n",
    "Score: x.xx\n",
    "```\n",
    "\n",
    "Use precision of one decimal for regression coefficients, and precision of two decimals for the score.\n",
    "In the `main` function test you solution using some measuring station, for example `Baana`.\n",
    "\n",
    "<hr/>"
   ]
  },
  {
   "cell_type": "code",
   "execution_count": null,
   "id": "9d4ff421",
   "metadata": {},
   "outputs": [],
   "source": []
  }
 ],
 "metadata": {
  "language_info": {
   "name": "python"
  }
 },
 "nbformat": 4,
 "nbformat_minor": 5
}
