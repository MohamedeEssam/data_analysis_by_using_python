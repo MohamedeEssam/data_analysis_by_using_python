{
 "cells": [
  {
   "cell_type": "markdown",
   "id": "f8c79df8",
   "metadata": {},
   "source": [
    "#### <div class=\"alert alert-info\">Exercise 1 (blob classification)</div>\n",
    "\n",
    "Write function `blob_classification` that gets feature matrix X and label vector y as parameters. It should then return the accuracy score of the prediction. Do the prediction using `GaussianNB`, and use `train_test_split` function from `sklearn` to split the dataset in to two parts: one for training and one for testing. Give parameter `random_state=0` to the splitting function so that the result is deterministic. Use training set size of 75% of the whole data.\n",
    "<hr/>"
   ]
  },
  {
   "cell_type": "code",
   "execution_count": null,
   "id": "83f45f21",
   "metadata": {},
   "outputs": [],
   "source": []
  },
  {
   "cell_type": "markdown",
   "id": "9bfca7ad",
   "metadata": {},
   "source": [
    "#### <div class=\"alert alert-info\">Exercise 2 (plant classification)</div>\n",
    "\n",
    "Write function `plant_classification` that does the following:\n",
    "\n",
    "* loads the iris dataset using sklearn (`sklearn.datasets.load_iris`)\n",
    "* splits the data into training and testing part using the `train_test_split` function so that the training set size is 80% of the whole data (give the call also the `random_state=0` argument to make the result deterministic)\n",
    "* use Gaussian naive Bayes to fit the training data\n",
    "* predict labels of the test data\n",
    "* the function should return the accuracy score of the prediction performance (`sklearn.metrics.accuracy_score`)\n",
    "<hr/>"
   ]
  },
  {
   "cell_type": "code",
   "execution_count": null,
   "id": "f27b6ccc",
   "metadata": {},
   "outputs": [],
   "source": []
  },
  {
   "cell_type": "markdown",
   "id": "1161a949",
   "metadata": {},
   "source": [
    "#### <div class=\"alert alert-info\">Exercise 3 (word classification)</div>\n",
    "\n",
    "This exercise can give four points at maximum!\n",
    "\n",
    "In this exercise we create a model that tries to label previously unseen words to be either Finnish or English.\n",
    "\n",
    "Part 1.\n",
    "\n",
    "Write function `get_features` that gets a one dimensional np.array, containing words, as parameter. It should return a feature matrix of shape (n, 29), where n is the number of elements of the input array. There should be one feature for each of the letters in the following alphabet: \"abcdefghijklmnopqrstuvwxyzäö-\". The values should be the number of times the corresponding character appears in the word.\n",
    "\n",
    "Part 2.\n",
    "\n",
    "Write function `contains_valid_chars` that takes a string as a parameter and returns the truth value of whether all the characters in the string belong to the alphabet or not.\n",
    "\n",
    "Part 3.\n",
    "\n",
    "Write function `get_features_and_labels` that returns the tuple (X, y) of the feature matrix and the target vector. Use the labels 0 and 1 for Finnish and English, respectively. Use the supplied functions load_finnish() and load_english() to get the lists of words. Filter the lists in the following ways:\n",
    "\n",
    "* Convert the Finnish words to lowercase, and then filter out those words that contain characters that don't belong to the alphabet.\n",
    "* For the English words first filter out those words that begin with an uppercase letter to get rid of proper nouns. Then proceed as with the Finnish words.\n",
    "\n",
    "Use get_features function you made earlier to form the feature matrix.\n",
    "\n",
    "Part 4.\n",
    "\n",
    "We have earlier seen examples where we split the data into learning part and testing part. This way we can test whether the model can really be used to predict unseen data. However, it can be that we had bad luck and the split produced very biased learning and test datas. To counter this, we can perform the split several times and take as the final result the average from the different splits. This is called [cross validation](<https://en.wikipedia.org/wiki/Cross-validation_(statistics)>).\n",
    "\n",
    "Create `word_classification` function that does the following:\n",
    "\n",
    "Use the function `get_features_and_labels` you made earlier to get the feature matrix and the labels. Use multinomial naive Bayes to do the classification. Get the accuracy scores using the `sklearn.model_selection.cross_val_score` function; use 5-fold cross validation. The function should return a list of five accuracy scores.\n",
    "\n",
    "The cv parameter of `cross_val_score` can be either an integer, which specifies the number of folds, or it can be a *cross-validation generator* that generates the (train set,test set) pairs. What happens if you pass the following cross-validation generator to `cross_val_score` as a parameter: `sklearn.model_selection.KFold(n_splits=5, shuffle=True, random_state=0)`.\n",
    "\n",
    "Why the difference?\n",
    "<hr/>"
   ]
  },
  {
   "cell_type": "code",
   "execution_count": null,
   "id": "c5269440",
   "metadata": {},
   "outputs": [],
   "source": []
  },
  {
   "cell_type": "markdown",
   "id": "24c617d0",
   "metadata": {},
   "source": [
    "#### <div class=\"alert alert-info\">Exercise 4 (spam detection)</div>\n",
    "\n",
    "This exercise gives two points if solved correctly!\n",
    "\n",
    "In the `src` folder there are two files: `ham.txt.gz` and `spam.txt.gz`. The files are preprocessed versions of the files from https://spamassassin.apache.org/old/publiccorpus/. There is one email per line. The file `ham.txt.gz` contains emails that are non-spam, and, conversely, emails in file `spam.txt` are spam. The email headers have been removed, except for the subject line, and non-ascii characters have been deleted.\n",
    "\n",
    "Write function `spam_detection` that does the following:\n",
    "\n",
    "* Read the lines from these files into arrays. Use function `open` from `gzip` module, since the files are compressed. From each file take only `fraction` of lines from the start of the file, where `fraction` is a parameter to `spam_detection`, and should be in the range `[0.0, 1.0]`.\n",
    "* forms the combined feature matrix using `CountVectorizer` class' `fit_transform` method. The feature matrix should first have the rows for the `ham` dataset and then the rows for the `spam` dataset. One row in the feature matrix corresponds to one email.\n",
    "* use labels 0 for ham and 1 for spam\n",
    "* divide that feature matrix and the target label into training and test sets, using `train_test_split`. Use 75% of the data for training. Pass the random_state parameter from `spam_detection` to `train_test_split`.\n",
    "* train a `MultinomialNB` model, and use it to predict the labels for the test set\n",
    "\n",
    "The function should return a triple consisting of\n",
    "\n",
    "* accuracy score of the prediction\n",
    "* size of test sample\n",
    "* number of misclassified sample points\n",
    "\n",
    "Note. The tests use the `fraction` parameter with value 0.1 to ease to load on the TMC server. If full data were used and the solution did something non-optimal, it could use huge amounts of memory, causing the solution to fail.\n",
    "<hr/>"
   ]
  }
 ],
 "metadata": {
  "language_info": {
   "name": "python"
  }
 },
 "nbformat": 4,
 "nbformat_minor": 5
}
